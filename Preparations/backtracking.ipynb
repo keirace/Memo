{
 "cells": [
  {
   "cell_type": "markdown",
   "id": "97835cdd",
   "metadata": {},
   "source": [
    "# Backtracking"
   ]
  },
  {
   "cell_type": "markdown",
   "id": "cb6428ba",
   "metadata": {},
   "source": [
    "## Subsets"
   ]
  },
  {
   "cell_type": "code",
   "execution_count": null,
   "id": "bb26f89b",
   "metadata": {},
   "outputs": [
    {
     "name": "stdout",
     "output_type": "stream",
     "text": [
      "[[], [1], [1, 2], [1, 2, 3], [1, 3], [2], [2, 3], [3]]\n"
     ]
    }
   ],
   "source": [
    "from typing import List\n",
    "\n",
    "def subsets(nums:List[int]) -> List[List[int]]:\n",
    "    result = []\n",
    "    \n",
    "    def backtrack(start: int, path: List[int]):\n",
    "        result.append(path[:])\n",
    "        for i in range(start, len(nums)):\n",
    "            path.append(nums[i])\n",
    "            backtrack(i + 1, path)\n",
    "            path.pop() # backtrack to explore next subset\n",
    "    \n",
    "    backtrack(0, [])\n",
    "    return result\n",
    "\n",
    "# Example usage:\n",
    "if __name__ == \"__main__\":\n",
    "    nums = [1, 2, 3]\n",
    "    print(subsets(nums))  # Output: [[], [1], [1, 2], [1, 2, 3], [1, 3], [2], [2, 3], [3]]"
   ]
  },
  {
   "cell_type": "code",
   "execution_count": null,
   "id": "2dd85713",
   "metadata": {},
   "outputs": [
    {
     "name": "stdout",
     "output_type": "stream",
     "text": [
      "[[], [3], [2], [2, 3], [1], [1, 3], [1, 2], [1, 2, 3]]\n"
     ]
    }
   ],
   "source": [
    "def subsets2(nums: List[int]) -> List[List[int]]:\n",
    "    result = []\n",
    "    def backtrack(i):\n",
    "        if i == len(nums):\n",
    "            result.append(solution[:])\n",
    "            return\n",
    "        # Exclude the current number\n",
    "        backtrack(i + 1)\n",
    "\n",
    "        # Include the current number\n",
    "        solution.append(nums[i])\n",
    "        backtrack(i + 1)\n",
    "        \n",
    "        # Backtrack to remove the current number\n",
    "        solution.pop()\n",
    "    solution = []\n",
    "    backtrack(0)\n",
    "    return result\n",
    "# Example usage for subsets2:\n",
    "if __name__ == \"__main__\":\n",
    "    nums2 = [1, 2, 3]\n",
    "    print(subsets2(nums2))  # Output: [[], [1], [1, 2], [1, 2, 3], [1, 3], [2], [2, 3], [3]]"
   ]
  },
  {
   "cell_type": "code",
   "execution_count": 3,
   "id": "968f9e58",
   "metadata": {},
   "outputs": [
    {
     "name": "stdout",
     "output_type": "stream",
     "text": [
      "[[], [1], [2], [1, 2], [3], [1, 3], [2, 3], [1, 2, 3]]\n"
     ]
    }
   ],
   "source": [
    "def subsets_iterative(nums: List[int]) -> List[List[int]]:\n",
    "    result = [[]]\n",
    "    for num in nums:\n",
    "        result += [curr + [num] for curr in result]\n",
    "    return result\n",
    "# Example usage for the iterative version:\n",
    "if __name__ == \"__main__\":\n",
    "    nums = [1, 2, 3]\n",
    "    print(subsets_iterative(nums))  # Output: [[], [1], [2], [1, 2], [3], [1, 3], [2, 3], [1, 2, 3]]"
   ]
  },
  {
   "cell_type": "markdown",
   "id": "08a037e0",
   "metadata": {},
   "source": [
    "## Permutations"
   ]
  },
  {
   "cell_type": "code",
   "execution_count": null,
   "id": "ec28f8c5",
   "metadata": {},
   "outputs": [],
   "source": [
    "def permutations(nums: List[int]) -> List[List[int]]:\n",
    "    result = []\n",
    "    \n",
    "    def backtrack(path: List[int], used: List[bool]):\n",
    "        if len(path) == len(nums):\n",
    "            result.append(path[:])\n",
    "            return\n",
    "        for i in range(len(nums)):\n",
    "            if used[i]:\n",
    "                continue\n",
    "            used[i] = True\n",
    "            path.append(nums[i])\n",
    "            backtrack(path, used)\n",
    "            path.pop()\n",
    "            used[i] = False\n",
    "    \n",
    "    backtrack([], [False] * len(nums))\n",
    "    return result"
   ]
  },
  {
   "cell_type": "code",
   "execution_count": null,
   "id": "7fb84d2e",
   "metadata": {},
   "outputs": [
    {
     "name": "stdout",
     "output_type": "stream",
     "text": [
      "[[1, 2, 3], [1, 3, 2], [2, 1, 3], [2, 3, 1], [3, 2, 1], [3, 1, 2]]\n"
     ]
    }
   ],
   "source": [
    "def permutations2(nums: List[int]) -> List[List[int]]:\n",
    "    result = []\n",
    "    \n",
    "    def backtrack(start: int):\n",
    "        if start == len(nums):\n",
    "            result.append(nums[:])\n",
    "            return\n",
    "        for i in range(start, len(nums)):\n",
    "            nums[start], nums[i] = nums[i], nums[start]  # Swap to create a new permutation\n",
    "            backtrack(start + 1)\n",
    "            nums[start], nums[i] = nums[i], nums[start]  # Swap back\n",
    "    \n",
    "    backtrack(0)\n",
    "    return result\n",
    "\n",
    "if __name__ == \"__main__\":\n",
    "    nums = [1, 2, 3]\n",
    "    print(permutations2(nums))"
   ]
  },
  {
   "cell_type": "code",
   "execution_count": null,
   "id": "a1323116",
   "metadata": {},
   "outputs": [
    {
     "name": "stdout",
     "output_type": "stream",
     "text": [
      "[[1, 2, 3], [1, 3, 2], [2, 1, 3], [2, 3, 1], [3, 1, 2], [3, 2, 1]]\n"
     ]
    }
   ],
   "source": [
    "def permutations3(nums: List[int]) -> List[List[int]]:\n",
    "    result = []\n",
    "    def backtrack(path, remaining):\n",
    "        if not remaining:\n",
    "            result.append(path)\n",
    "            return\n",
    "        for i in range(len(remaining)):\n",
    "            backtrack(path + [remaining[i]], remaining[:i] + remaining[i+1:])\n",
    "    backtrack([], nums)\n",
    "    return result\n",
    "\n",
    "if __name__ == \"__main__\":\n",
    "    nums = [1, 2, 3]\n",
    "    print(permutations3(nums))"
   ]
  },
  {
   "cell_type": "markdown",
   "id": "1773f0b2",
   "metadata": {},
   "source": [
    "## Combination Sum"
   ]
  },
  {
   "cell_type": "code",
   "execution_count": null,
   "id": "38220f5a",
   "metadata": {},
   "outputs": [],
   "source": [
    "def combinationSum(candidates: List[int], target: int) -> List[List[int]]:\n",
    "    result = []\n",
    "    \n",
    "    def backtrack(start: int, path: List[int], remaining: int):\n",
    "        if remaining < 0:\n",
    "            return\n",
    "        if remaining == 0:\n",
    "            result.append(path[:])\n",
    "            return\n",
    "        for i in range(start, len(candidates)):\n",
    "            path.append(candidates[i])\n",
    "            backtrack(i, path, remaining - candidates[i])  # Allow same element to be used again\n",
    "            path.pop()  # Backtrack\n",
    "    \n",
    "    backtrack(0, [], target)\n",
    "    return result"
   ]
  }
 ],
 "metadata": {
  "kernelspec": {
   "display_name": "tensor",
   "language": "python",
   "name": "python3"
  },
  "language_info": {
   "codemirror_mode": {
    "name": "ipython",
    "version": 3
   },
   "file_extension": ".py",
   "mimetype": "text/x-python",
   "name": "python",
   "nbconvert_exporter": "python",
   "pygments_lexer": "ipython3",
   "version": "3.8.8"
  }
 },
 "nbformat": 4,
 "nbformat_minor": 5
}
