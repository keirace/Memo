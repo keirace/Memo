{
 "cells": [
  {
   "cell_type": "markdown",
   "id": "f0b84652",
   "metadata": {},
   "source": [
    "Patterns\n",
    "- Bottom up\n",
    "  - Balanced tree, diameter, max path sum\n",
    "- Top-down (preorder)\n",
    "  - Path sum with constraint, passing state\n",
    "- BFS\n",
    "  - Level order, minimum depth, right view"
   ]
  },
  {
   "cell_type": "code",
   "execution_count": 2,
   "id": "b5cacec3",
   "metadata": {},
   "outputs": [],
   "source": [
    "from collections import deque\n",
    "class Node:\n",
    "    def __init__(self, key):\n",
    "        self.left = None\n",
    "        self.right = None\n",
    "        self.val = key\n",
    "\n",
    "class BinaryTree:\n",
    "    def level_order_traversal(self, root):\n",
    "        if not root:\n",
    "            return []\n",
    "        \n",
    "        result = []\n",
    "        queue = deque([root])\n",
    "        \n",
    "        while queue:\n",
    "            current_node = queue.popleft()\n",
    "            result.append(current_node.val)\n",
    "            \n",
    "            if current_node.left:\n",
    "                queue.append(current_node.left)\n",
    "            if current_node.right:\n",
    "                queue.append(current_node.right)\n",
    "        \n",
    "        return result\n",
    "    \n",
    "    def inorder_traversal(self, root):\n",
    "        if not root:\n",
    "            return []\n",
    "        return self.inorder_traversal(root.left) + [root.val] + self.inorder_traversal(root.right)\n",
    "    \n",
    "    def preorder_traversal(self, root):\n",
    "        if not root:\n",
    "            return []\n",
    "        return [root.val] + self.preorder_traversal(root.left) + self.preorder_traversal(root.right)\n",
    "    \n",
    "    def postorder_traversal(self, root):\n",
    "        if not root:\n",
    "            return []\n",
    "        return self.postorder_traversal(root.left) + self.postorder_traversal(root.right) + [root.val]"
   ]
  },
  {
   "cell_type": "code",
   "execution_count": 3,
   "id": "f5a3c72e",
   "metadata": {},
   "outputs": [
    {
     "name": "stdout",
     "output_type": "stream",
     "text": [
      "        -> 5\n",
      "    -> 3\n",
      "        -> 4\n",
      "-> 1\n",
      "    -> 2\n",
      "Level Order Traversal: [1, 2, 3, 4, 5]\n",
      "Inorder Traversal: [2, 1, 4, 3, 5]\n",
      "Preorder Traversal: [1, 2, 3, 4, 5]\n",
      "Postorder Traversal: [2, 4, 5, 3, 1]\n"
     ]
    }
   ],
   "source": [
    "def build_tree(index, nodes):\n",
    "    if index >= len(nodes) or nodes[index] is None:\n",
    "        return None\n",
    "    \n",
    "    node = Node(nodes[index])\n",
    "    node.left = build_tree(2 * index + 1, nodes)\n",
    "    node.right = build_tree(2 * index + 2, nodes)\n",
    "    \n",
    "    return node\n",
    "\n",
    "def print_tree(node, level=0):\n",
    "    if node is not None:\n",
    "        print_tree(node.right, level + 1)\n",
    "        print(' ' * 4 * level + '->', node.val)\n",
    "        print_tree(node.left, level + 1)\n",
    "\n",
    "root=build_tree(0,[1,2,3,None,None,4,5])\n",
    "print_tree(root)\n",
    "bt = BinaryTree()\n",
    "print(\"Level Order Traversal:\", bt.level_order_traversal(root))\n",
    "print(\"Inorder Traversal:\", bt.inorder_traversal(root))\n",
    "print(\"Preorder Traversal:\", bt.preorder_traversal(root))\n",
    "print(\"Postorder Traversal:\", bt.postorder_traversal(root))"
   ]
  },
  {
   "cell_type": "code",
   "execution_count": null,
   "id": "0e90182a",
   "metadata": {},
   "outputs": [],
   "source": []
  }
 ],
 "metadata": {
  "kernelspec": {
   "display_name": "tensor",
   "language": "python",
   "name": "python3"
  },
  "language_info": {
   "codemirror_mode": {
    "name": "ipython",
    "version": 3
   },
   "file_extension": ".py",
   "mimetype": "text/x-python",
   "name": "python",
   "nbconvert_exporter": "python",
   "pygments_lexer": "ipython3",
   "version": "3.8.8"
  }
 },
 "nbformat": 4,
 "nbformat_minor": 5
}
