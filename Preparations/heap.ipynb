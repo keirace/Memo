{
 "cells": [
  {
   "cell_type": "code",
   "execution_count": 1,
   "id": "631b7a5f",
   "metadata": {},
   "outputs": [
    {
     "name": "stdout",
     "output_type": "stream",
     "text": [
      "[1, 1, 2, 3, 5, 9, 4, 6]\n",
      "[1, 1, 2, 3, 6, 9, 4]\n"
     ]
    }
   ],
   "source": [
    "import heapq\n",
    "\n",
    "def remove_element(heap, index):\n",
    "    heap[index] = heap[-1]\n",
    "    heap.pop()\n",
    "    if index < len(heap):\n",
    "        heapq._siftup(heap, index)\n",
    "        heapq._siftdown(heap, 0, index)\n",
    "\n",
    "heap = [3, 1, 4, 1, 5, 9, 2, 6]\n",
    "heapq.heapify(heap)\n",
    "print(heap)  # Output: [1, 1, 2, 3, 5, 9, 4, 6]\n",
    "\n",
    "index_to_remove = 4 # Index of the element 5\n",
    "remove_element(heap, index_to_remove)\n",
    "print(heap) # Output: [1, 1, 2, 3, 6, 9, 4]"
   ]
  },
  {
   "cell_type": "code",
   "execution_count": null,
   "id": "49b2a596",
   "metadata": {},
   "outputs": [
    {
     "name": "stdout",
     "output_type": "stream",
     "text": [
      "[1, 1, 2, 3, 4, 5, 6, 9]\n"
     ]
    }
   ],
   "source": [
    "# HEAP SORT\n",
    "# Time Complexity: O(n log n)\n",
    "# Space Complexity: O(n)\n",
    "def heapsort(arr):\n",
    "    heapq.heapify(arr)\n",
    "    sorted_arr = []\n",
    "    while arr:\n",
    "        sorted_arr.append(heapq.heappop(arr))\n",
    "    return sorted_arr\n",
    "\n",
    "# Example usage of heapsort\n",
    "arr = [3, 1, 4, 1, 5, 9, 2, 6]\n",
    "sorted_arr = heapsort(arr)\n",
    "print(sorted_arr)  # Output: [1, 1, 2, 3, 4, 5, 6, 9]"
   ]
  },
  {
   "cell_type": "code",
   "execution_count": null,
   "id": "761ba9d3",
   "metadata": {},
   "outputs": [
    {
     "name": "stdout",
     "output_type": "stream",
     "text": [
      "[1, 1, 2, 3, 6, 9, 4, 8]\n",
      "1\n",
      "1\n",
      "0\n"
     ]
    }
   ],
   "source": [
    "# push\n",
    "heapq.heappush(heap, 8)\n",
    "print(heap)  # Output: [1, 1, 2, 3, 5, 9, 4, 6, 8]\n",
    "\n",
    "# pop\n",
    "popped_element = heapq.heappop(heap)\n",
    "print(popped_element)  # Output: 1\n",
    "\n",
    "# peek\n",
    "def peek(heap):\n",
    "    return heap[0] if heap else None\n",
    "print(peek(heap))  # Output: 1\n",
    "\n",
    "# pushpop\n",
    "def pushpop(heap, item):\n",
    "    return heapq.heappushpop(heap, item)\n",
    "print(pushpop(heap, 0))  # Output: 1 (0 is pushed and then the smallest element is popped)"
   ]
  },
  {
   "cell_type": "code",
   "execution_count": null,
   "id": "844eed54",
   "metadata": {},
   "outputs": [],
   "source": [
    "def findKthLargest(self, nums, k):\n",
    "    heap = nums[:k]\n",
    "    heapq.heapify(heap)\n",
    "    for i in nums[k:]:\n",
    "        if i > heap[0]:\n",
    "            heapq.heappushpop(heap, i)\n",
    "            \n",
    "    return heap[0]\n",
    "\n",
    "# Example usage of findKthLargest\n",
    "nums = [3, 2, 1, 5, 6, 4]\n",
    "k = 2\n",
    "solution = findKthLargest(None, nums, k)"
   ]
  },
  {
   "cell_type": "code",
   "execution_count": null,
   "id": "fd2ec30d",
   "metadata": {},
   "outputs": [],
   "source": []
  }
 ],
 "metadata": {
  "kernelspec": {
   "display_name": "tensor",
   "language": "python",
   "name": "python3"
  },
  "language_info": {
   "codemirror_mode": {
    "name": "ipython",
    "version": 3
   },
   "file_extension": ".py",
   "mimetype": "text/x-python",
   "name": "python",
   "nbconvert_exporter": "python",
   "pygments_lexer": "ipython3",
   "version": "3.8.8"
  }
 },
 "nbformat": 4,
 "nbformat_minor": 5
}
